{
  "nbformat": 4,
  "nbformat_minor": 0,
  "metadata": {
    "colab": {
      "provenance": [],
      "authorship_tag": "ABX9TyNBgr7d5M8ifyXJ2fZF/X6X",
      "include_colab_link": true
    },
    "kernelspec": {
      "name": "python3",
      "display_name": "Python 3"
    },
    "language_info": {
      "name": "python"
    }
  },
  "cells": [
    {
      "cell_type": "markdown",
      "metadata": {
        "id": "view-in-github",
        "colab_type": "text"
      },
      "source": [
        "<a href=\"https://colab.research.google.com/github/Rahul-phyton-code/exception-handling/blob/main/12_feb.ipynb\" target=\"_parent\"><img src=\"https://colab.research.google.com/assets/colab-badge.svg\" alt=\"Open In Colab\"/></a>"
      ]
    },
    {
      "cell_type": "markdown",
      "source": [
        "1.) An exception in Python is an incident that happens while executing a program that causes the regular course of the program's commands to be disrupted\n",
        "\n",
        "An error is an issue in a program that prevents the program from completing its task. In comparison, an exception is a condition that interrupts the normal flow of the program. Both errors and exceptions are a type of runtime error, which means they occur during the execution of a program."
      ],
      "metadata": {
        "id": "VK0iKymm0ONp"
      }
    },
    {
      "cell_type": "markdown",
      "source": [
        "2.) If the exception is not handled by an except clause, the exception is re-raised after the finally clause has been executed.\n"
      ],
      "metadata": {
        "id": "nfD7X_7s1QKe"
      }
    },
    {
      "cell_type": "code",
      "source": [
        "f = open(\"test.txt\",\"r\")\n",
        "print(\"Good Boy\")"
      ],
      "metadata": {
        "colab": {
          "base_uri": "https://localhost:8080/",
          "height": 183
        },
        "id": "K2I4B4i41Y8G",
        "outputId": "1b72d053-be3e-4e88-87ba-98f424413b3a"
      },
      "execution_count": 1,
      "outputs": [
        {
          "output_type": "error",
          "ename": "FileNotFoundError",
          "evalue": "ignored",
          "traceback": [
            "\u001b[0;31m---------------------------------------------------------------------------\u001b[0m",
            "\u001b[0;31mFileNotFoundError\u001b[0m                         Traceback (most recent call last)",
            "\u001b[0;32m<ipython-input-1-4a2c389b3547>\u001b[0m in \u001b[0;36m<cell line: 1>\u001b[0;34m()\u001b[0m\n\u001b[0;32m----> 1\u001b[0;31m \u001b[0mf\u001b[0m \u001b[0;34m=\u001b[0m \u001b[0mopen\u001b[0m\u001b[0;34m(\u001b[0m\u001b[0;34m\"test.txt\"\u001b[0m\u001b[0;34m,\u001b[0m\u001b[0;34m\"r\"\u001b[0m\u001b[0;34m)\u001b[0m\u001b[0;34m\u001b[0m\u001b[0;34m\u001b[0m\u001b[0m\n\u001b[0m\u001b[1;32m      2\u001b[0m \u001b[0mprint\u001b[0m\u001b[0;34m(\u001b[0m\u001b[0;34m\"Good Boy\"\u001b[0m\u001b[0;34m)\u001b[0m\u001b[0;34m\u001b[0m\u001b[0;34m\u001b[0m\u001b[0m\n",
            "\u001b[0;31mFileNotFoundError\u001b[0m: [Errno 2] No such file or directory: 'test.txt'"
          ]
        }
      ]
    },
    {
      "cell_type": "code",
      "source": [
        "try:\n",
        "  f = open(\"test.txt\",\"r\")\n",
        "except exception as e:\n",
        "  print(\"there is a code problem\",e)  "
      ],
      "metadata": {
        "id": "UtvejMyb2bd4"
      },
      "execution_count": null,
      "outputs": []
    },
    {
      "cell_type": "markdown",
      "source": [
        "3) The try and except block in Python is used to catch and handle exceptions. Python executes code following the try statement as a “normal” part of the program. The code that follows the except statement is the program’s response to any exceptions in the preceding try clause.\n",
        "\n"
      ],
      "metadata": {
        "id": "-wqZ-iyL3Lep"
      }
    },
    {
      "cell_type": "code",
      "source": [
        "try:\n",
        "  b = 67\n",
        "  c = b/0\n",
        "  print(C)\n",
        "except Exception as e:\n",
        "  print(\"zero divison error\",e)  "
      ],
      "metadata": {
        "colab": {
          "base_uri": "https://localhost:8080/"
        },
        "id": "73m7PCHY4R6F",
        "outputId": "c5254661-410d-411b-fd92-46854ca0890e"
      },
      "execution_count": 5,
      "outputs": [
        {
          "output_type": "stream",
          "name": "stdout",
          "text": [
            "zero divison error division by zero\n"
          ]
        }
      ]
    },
    {
      "cell_type": "markdown",
      "source": [
        "4)  a.) If only try will execute successfully then only else run otherwise never"
      ],
      "metadata": {
        "id": "19NShHKN5hHF"
      }
    },
    {
      "cell_type": "code",
      "source": [
        "try:\n",
        "  a = 30\n",
        "  b = 60\n",
        "  print(a*b)\n",
        "except Exception as e:\n",
        "  print(\"addition error\",e)\n",
        "else:\n",
        "  print(\"addition has accomplished\")  \n",
        "\n"
      ],
      "metadata": {
        "colab": {
          "base_uri": "https://localhost:8080/"
        },
        "id": "ncHg-tnI5jVP",
        "outputId": "721c30fc-13ea-4b40-f8d7-385405e7a01d"
      },
      "execution_count": 9,
      "outputs": [
        {
          "output_type": "stream",
          "name": "stdout",
          "text": [
            "1800\n",
            "addition has accomplished\n"
          ]
        }
      ]
    },
    {
      "cell_type": "markdown",
      "source": [
        "b.) finally will always execute , it doesnt matter if there is some problem in \n",
        "try,except and else.\n"
      ],
      "metadata": {
        "id": "JVvol_Y-6rZ7"
      }
    },
    {
      "cell_type": "code",
      "source": [
        "try:\n",
        "  a = [10,20,30]\n",
        "  b = [40,50,60]\n",
        "  print(a*b)\n",
        "except Exception as e:\n",
        "  print(\"addition error\",e)\n",
        "else:\n",
        "  print(\"addition has accmplished\")  \n",
        "finally:\n",
        "  print(\"it will print always\")  \n"
      ],
      "metadata": {
        "colab": {
          "base_uri": "https://localhost:8080/"
        },
        "id": "ZRwtPogs7W5m",
        "outputId": "1a8a1575-564c-4c20-9a8d-353995024be1"
      },
      "execution_count": 10,
      "outputs": [
        {
          "output_type": "stream",
          "name": "stdout",
          "text": [
            "addition error can't multiply sequence by non-int of type 'list'\n",
            "it will print always\n"
          ]
        }
      ]
    },
    {
      "cell_type": "markdown",
      "source": [
        "5.) custom exceptions can make your code much more readable and robust, and reduce the amount of code you write later to try and figure out what exactly went wrong."
      ],
      "metadata": {
        "id": "DIEcoN_Q7vBG"
      }
    },
    {
      "cell_type": "code",
      "source": [
        "class MyError(Exception):\n",
        " \n",
        "    # Constructor or Initializer\n",
        "    def __init__(self, value):\n",
        "        self.value = value\n",
        " \n",
        "    # __str__ is to print() the value\n",
        "    def __str__(self):\n",
        "        return(repr(self.value))\n",
        " \n",
        " \n",
        "try:\n",
        "    raise(MyError(3*2))\n",
        " \n",
        "# Value of Exception is stored in error\n",
        "except MyError as error:\n",
        "    print('A New Exception occurred: ', error.value)"
      ],
      "metadata": {
        "colab": {
          "base_uri": "https://localhost:8080/"
        },
        "id": "agplzRwX9ckg",
        "outputId": "0e5626b9-6fdc-41d7-e3bc-082bc2a8e025"
      },
      "execution_count": 11,
      "outputs": [
        {
          "output_type": "stream",
          "name": "stdout",
          "text": [
            "A New Exception occurred:  6\n"
          ]
        }
      ]
    },
    {
      "cell_type": "markdown",
      "source": [
        "6.)"
      ],
      "metadata": {
        "id": "NgS7Qrfm--q8"
      }
    },
    {
      "cell_type": "code",
      "source": [
        "# define Python user-defined exceptions\n",
        "class Error(Exception):\n",
        "\t\"\"\"Base class for other exceptions\"\"\"\n",
        "\tpass\n",
        "\n",
        "class zerodivision(Error):\n",
        "\t\"\"\"Raised when the input value is zero\"\"\"\n",
        "\tpass\n",
        "\n",
        "try:\n",
        "\ti_num = int(input(\"Enter a number: \"))\n",
        "\tif i_num == 0:\n",
        "\t\traise zerodivision\n",
        "except zerodivision:\n",
        "\tprint(\"Input value is zero, try again!\")\n",
        "\tprint()\n"
      ],
      "metadata": {
        "id": "fC5np52t_AmL"
      },
      "execution_count": null,
      "outputs": []
    }
  ]
}